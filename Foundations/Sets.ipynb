{
 "cells": [
  {
   "cell_type": "markdown",
   "metadata": {},
   "source": [
    "In this lesson we will learn:\n",
    "- what is a set? A collection of items,  no repetition.\n",
    "- mathematical representation of set and membership: $\\in$ .\n",
    "- sets and membership in Python.\n",
    "- operators of sets: Intersection, Union, Negation, Subtraction.\n",
    "- set operators in Python.\n",
    "- Algebraic rules: Distribution of Intersection over Union (and vice versa), negation of Union (and Intersection), Associativity.\n",
    "- Problems that can be solved using sets and basic operations.\n",
    "\n",
    "\n",
    "Second part of the topic:\n",
    "- Cartesian products: produces new structires tuples.\n",
    "- Tuples and iteration over tuples.\n",
    "- The algorithm to produce a cartesian product.\n",
    "- for loops: using sets and tuples."
   ]
  },
  {
   "cell_type": "code",
   "execution_count": null,
   "metadata": {},
   "outputs": [],
   "source": []
  }
 ],
 "metadata": {
  "kernelspec": {
   "display_name": "Python 3",
   "language": "python",
   "name": "python3"
  },
  "language_info": {
   "codemirror_mode": {
    "name": "ipython",
    "version": 3
   },
   "file_extension": ".py",
   "mimetype": "text/x-python",
   "name": "python",
   "nbconvert_exporter": "python",
   "pygments_lexer": "ipython3",
   "version": "3.6.4"
  }
 },
 "nbformat": 4,
 "nbformat_minor": 2
}
