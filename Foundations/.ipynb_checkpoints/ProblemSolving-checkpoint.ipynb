{
 "cells": [
  {
   "cell_type": "markdown",
   "metadata": {},
   "source": [
    "**Problem Statement (A valid password)**:  In an application a valid password must be a combination of digits, uppercase and lowercase letters and only four symbols * @ ! ? . The length of the password must not be less than 8 characters. In case the password is not valid, the user can try several times until it is accepted."
   ]
  },
  {
   "cell_type": "markdown",
   "metadata": {},
   "source": [
    "We are going to use this case study to practice with the basics of computational problem solving techniques which any junior computer science student needs to practice during his/her study.\n",
    "\n",
    "Given any problem a student is expected to iteratively and systematically take the following steps. \n",
    "- Formulating the problem statement.\n",
    "- Proposing a candidate model for a solution.\n",
    "- Designing an algorithm.\n",
    "- Implementing the solution.\n",
    "- Aanalysing the results.\n",
    "\n",
    "**Formulating the problem statement**: The user is expected to enter a string which represents the password. The string which consists a set of characters must meet some constraints. Each constraint can be written as a propositional statement. The first constraint checks the length of the input which is very straitforward to check. The other constratins simly specifying that the given input must have at least one memeber from some sets of characters.\n",
    "\n",
    "**Proposing a candidate model for a solution**: How can we check membership of the characters from the given input within some sets? Let's define our sets:\n",
    "- upp: Uppercase ascii characters.\n",
    "- low: Lowercase ascii characters.\n",
    "- symb: {*,@,!,?}\n",
    "- dgt: The set of digits.\n",
    "- psw: The set of characters from given input.\n",
    "\n",
    "Let's formulate constraints. \n",
    "- At least one symbol (from symb): $$| psw \\cap symb | > 0$$\n",
    "- Combination of digits, uppercase and lowercase letters: $$| psw \\cap upp | > 0 \\wedge | psw \\cap low | > 0 \\wedge | psw \\cap dgt | > 0$$\n",
    "\n",
    "The follwoing picture shows a Venn diagram of our solution:\n",
    "\n",
    "<img src=\"./imgs/venn-password.png\" width=\"250\" alt=\"A Venn diagram for constraints of password.\">\n",
    "\n",
    "**Designing an algorithm**: So far we could manage to build the core of our solution. What are the steps needed to tranlate our solution to a program? Let's try. This is our first try:\n",
    "- Assume a given input.\n",
    "- Build required sets.\n",
    "- Construct given constraints.\n",
    "- Check if conditions are met: Yes, confirm validity; No, repeat again.\n",
    "\n",
    "The flow of the execution will look like:\n",
    "\n",
    "<img src=\"./imgs/flowchart.png\" width=\"250\" alt=\"A general flowchart to construct the logic.\">\n",
    "\n",
    "**Implementing the solution**: First, implement a simple version of the solution. As soon as we start with coding we will see that there is a need to initialize our sets. Writing all the characters uppercase, lowrcase, digits is not fun. There should be a simpler way. Check here https://docs.python.org/2/library/string.html . Python gives us all the sets. Try them:"
   ]
  },
  {
   "cell_type": "code",
   "execution_count": 7,
   "metadata": {},
   "outputs": [
    {
     "name": "stdout",
     "output_type": "stream",
     "text": [
      "ABCDEFGHIJKLMNOPQRSTUVWXYZ\n",
      "abcdefghijklmnopqrstuvwxyz\n",
      "0123456789\n"
     ]
    }
   ],
   "source": [
    "import string\n",
    "\n",
    "print(string.ascii_uppercase)\n",
    "print(string.ascii_lowercase)\n",
    "print(string.digits)"
   ]
  },
  {
   "cell_type": "markdown",
   "metadata": {},
   "source": [
    "Now let's implement the basic and simple version of our program. "
   ]
  },
  {
   "cell_type": "code",
   "execution_count": 2,
   "metadata": {},
   "outputs": [
    {
     "name": "stdout",
     "output_type": "stream",
     "text": [
      "Define a password:Abx12*\n",
      "invalid password: enter again\n",
      "Define a password:Ab12*weG!\n",
      "Password is Valid.\n"
     ]
    }
   ],
   "source": [
    "import string\n",
    "\n",
    "upp = set(string.ascii_uppercase)\n",
    "low = set(string.ascii_lowercase)\n",
    "dgt = set(string.digits)\n",
    "sym = {'@', '?', '!', '*'}\n",
    "\n",
    "cond = False\n",
    "while(cond == False):\n",
    "  psw = input('Define a password:')\n",
    "  psw_set = set(psw)\n",
    "  \n",
    "  conds0 = len(psw) >= 8 \n",
    "  conds1 = len(psw_set.intersection(dgt)) > 0\n",
    "  conds2 = len(psw_set.intersection(sym)) > 0\n",
    "  conds3 = len(psw_set.intersection(upp)) > 0\n",
    "  conds4 = len(psw_set.intersection(low)) > 0\n",
    "\n",
    "  cond = conds0 and conds1 and conds2 and conds3 and conds4\n",
    "\n",
    "  if not(cond):\n",
    "    print('invalid password: enter again')\n",
    "\n",
    "print('Password is Valid.')"
   ]
  },
  {
   "cell_type": "markdown",
   "metadata": {},
   "source": [
    "We simply built the main core part of our program. Let's spend some time to improve our code:\n",
    "- Can we use a better structure for conditions?\n",
    "- Is there a simple way to report a proper message in case of invalid pasword? Why given password is not valid?\n",
    "Below, I have change the code using lists and tuples to implement our extensions:"
   ]
  },
  {
   "cell_type": "code",
   "execution_count": 5,
   "metadata": {},
   "outputs": [
    {
     "name": "stdout",
     "output_type": "stream",
     "text": [
      "Define a password:Ax23bvNqQ\n",
      "invalid password: enter again\n",
      "At least one symbole from * ! @ ?\n",
      "Define a password:A23\n",
      "invalid password: enter again\n",
      "Length of the password is not satisfied\n",
      "At least one symbole from * ! @ ?\n",
      "At least one lowercase letter\n",
      "Define a password:Ax23bvNqQ@0?#\n",
      "Password is Valid.\n"
     ]
    }
   ],
   "source": [
    "import string\n",
    "\n",
    "upp = set(string.ascii_uppercase)\n",
    "low = set(string.ascii_lowercase)\n",
    "dgt = set(string.digits)\n",
    "sym = {'@', '?', '!', '*'}\n",
    "\n",
    "msgs = ('Length of the password is not satisfied',\n",
    " 'At least one digit',\n",
    " 'At least one symbole from * ! @ ?',\n",
    " 'At least one uppercase letter',\n",
    " 'At least one lowercase letter')\n",
    "\n",
    "cond = False\n",
    "while(cond == False):\n",
    "  psw = input('Define a password:')\n",
    "  psw_set = set(psw)\n",
    " # a list to collect the results of constraints\n",
    "  conds = [0,0,0,0,0]  \n",
    "  \n",
    "  conds[0] = int(len(psw) >= 8 )\n",
    "  conds[1] = int(len(psw_set.intersection(dgt)) > 0)\n",
    "  conds[2] = int(len(psw_set.intersection(sym)) > 0)\n",
    "  conds[3] = int(len(psw_set.intersection(upp)) > 0)\n",
    "  conds[4] = int(len(psw_set.intersection(low)) > 0)\n",
    "\n",
    "  # A password is accepted if all the constraints are met.\n",
    "  cond = (sum(conds)==len(conds))  \n",
    "\n",
    " # if a condition is not satisfied, coresponding message is printed.\n",
    "  if not(cond): \n",
    "    print('invalid password: enter again')\n",
    "    for i in range(0,len(conds)):\n",
    "        if conds[i]==0:\n",
    "            print(msgs[i])\n",
    "\n",
    "print('Password is Valid.')"
   ]
  },
  {
   "cell_type": "markdown",
   "metadata": {},
   "source": [
    "Wait a minute. Did you see what has happened in our previous test? Our program has accepted Ax23bvNqQ@0?# as a valid password. But, this is not correct, right? The password contains # which is not an element of our accepted symbols. We are missing one more condition. Let's revise our solution.\n",
    "Simply, our password set mut not have any other member except $$ upp \\cup low \\cup sym \\cup dgt $$\n",
    "This means if we remove all the valid members from our password, nothing must remain:\n",
    "$$ psw - (upp \\cup low \\cup sym \\cup dgt)  = \\{\\} $$\n",
    "\n",
    "We update our program here."
   ]
  },
  {
   "cell_type": "code",
   "execution_count": 6,
   "metadata": {},
   "outputs": [
    {
     "name": "stdout",
     "output_type": "stream",
     "text": [
      "Define a password:Ax23bvNqQ@0?#\n",
      "invalid password: enter again\n",
      "Password contains and invalid symbol\n",
      "Define a password:Ax23bvNqQ@0?\n",
      "Password is Valid.\n"
     ]
    }
   ],
   "source": [
    "import string\n",
    "\n",
    "upp = set(string.ascii_uppercase)\n",
    "low = set(string.ascii_lowercase)\n",
    "dgt = set(string.digits)\n",
    "sym = {'@', '?', '!', '*'}\n",
    "max_len = 8\n",
    "\n",
    "# What is the benefit of defining this collection of messages as tuple?\n",
    "msgs = ('Length of the password is not satisfied',\n",
    " 'At least one digit',\n",
    " 'At least one symbole from * ! @ ?',\n",
    " 'At least one uppercase letter',\n",
    " 'At least one lowercase letter',\n",
    " 'Password contains and invalid symbol')\n",
    "\n",
    "cond = False\n",
    "while(cond == False):\n",
    "  psw = input('Define a password:')\n",
    "  psw_set = set(psw)\n",
    "  conds = [0,0,0,0,0,0]  # a list to collect the results of constraints\n",
    "  \n",
    "  conds[0] = int(len(psw) >= max_len )\n",
    "  conds[1] = int(len(psw_set.intersection(dgt)) > 0)\n",
    "  conds[2] = int(len(psw_set.intersection(sym)) > 0)\n",
    "  conds[3] = int(len(psw_set.intersection(upp)) > 0)\n",
    "  conds[4] = int(len(psw_set.intersection(low)) > 0)\n",
    "  # our new condition is added\n",
    "  conds[5] = int(len(psw_set - (low | upp | sym | dgt)) == 0)  \n",
    "\n",
    "  cond = (sum(conds)==len(conds))  \n",
    "\n",
    "  if not(cond): \n",
    "    print('invalid password: enter again')\n",
    "    for i in range(0,len(conds)):\n",
    "        if conds[i]==0:\n",
    "            print(msgs[i])\n",
    "\n",
    "print('Password is Valid.')"
   ]
  },
  {
   "cell_type": "markdown",
   "metadata": {},
   "source": [
    "**Conclusion**: In this simple example we tried to present how step-by-step we can tackle the problem, applying mathematical concepts sketch the solution, define the core of our algorithm, implement the code and validate the results. This skill in problem solving is one of the fundamental skills for a student in computer science."
   ]
  },
  {
   "cell_type": "code",
   "execution_count": null,
   "metadata": {},
   "outputs": [],
   "source": []
  }
 ],
 "metadata": {
  "kernelspec": {
   "display_name": "Python 3",
   "language": "python",
   "name": "python3"
  },
  "language_info": {
   "codemirror_mode": {
    "name": "ipython",
    "version": 3
   },
   "file_extension": ".py",
   "mimetype": "text/x-python",
   "name": "python",
   "nbconvert_exporter": "python",
   "pygments_lexer": "ipython3",
   "version": "3.6.4"
  }
 },
 "nbformat": 4,
 "nbformat_minor": 2
}
