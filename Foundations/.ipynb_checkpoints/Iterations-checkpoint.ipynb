{
 "cells": [
  {
   "cell_type": "markdown",
   "metadata": {},
   "source": [
    "Case 1: Iteration over a set of numbers.\n",
    "- Print a sequence of numbers.\n",
    "- Print elements of a sequence, tuples, set.\n",
    "- Calculate sigmas: $\\Sigma_{0}^{n} x$ , $\\Sigma_{0}^{n} x^2$, $0+2+4+6+8+...+n$.\n",
    "- Calculate simmation of the elements from a set, list, tuple."
   ]
  },
  {
   "cell_type": "code",
   "execution_count": 1,
   "metadata": {},
   "outputs": [
    {
     "name": "stdout",
     "output_type": "stream",
     "text": [
      "0\n",
      "1\n",
      "2\n",
      "3\n",
      "4\n",
      "0\n",
      "1\n",
      "2\n",
      "3\n",
      "4\n"
     ]
    }
   ],
   "source": [
    "# Print a sequence of numbers.\n",
    "max = 5\n",
    "# print using while loop\n",
    "i = 0\n",
    "while(i < max):\n",
    "    print(i)\n",
    "    i=i+1\n",
    "    \n",
    "\n",
    "# print using a for loop\n",
    "for j in range(0,max):\n",
    "    print(j)\n"
   ]
  },
  {
   "cell_type": "code",
   "execution_count": 5,
   "metadata": {},
   "outputs": [
    {
     "name": "stdout",
     "output_type": "stream",
     "text": [
      "Hex numbers: {'A', 0, 1, 'E', 2, 3, 'C', 4, 5, 'F', 6, 7, 8, 9, 'D', 'B'}\n",
      "A\n",
      "0\n",
      "1\n",
      "E\n",
      "2\n",
      "3\n",
      "C\n",
      "4\n",
      "5\n",
      "F\n",
      "6\n",
      "7\n",
      "8\n",
      "9\n",
      "D\n",
      "B\n"
     ]
    }
   ],
   "source": [
    "#Print elements of a sequence, tuples, set.\n",
    "Hex = set(['A','B','C','D','E','F'])\n",
    "for i in range(0,10):\n",
    "    Hex.add(i)\n",
    "    \n",
    "print('Hex numbers:',Hex)  # print the whole set\n",
    "\n",
    "'''for h in Hex: # iterate over the elements\n",
    "    print(h)\n",
    "'''\n",
    "\n",
    "# print using while loop\n",
    "'''H = Hex.copy()   # why not simply H = Hex ?\n",
    "while(len(H)>0):\n",
    "    e = H.pop()\n",
    "    print(e)\n",
    "'''\n",
    "\n",
    "# print using while loop over a list\n",
    "'''L = list(Hex)\n",
    "index = 0\n",
    "while(index < len(L)):\n",
    "    e = L[index]\n",
    "    print(e)\n",
    "    index +=1\n",
    "'''"
   ]
  },
  {
   "cell_type": "code",
   "execution_count": null,
   "metadata": {},
   "outputs": [],
   "source": []
  }
 ],
 "metadata": {
  "kernelspec": {
   "display_name": "Python 3",
   "language": "python",
   "name": "python3"
  },
  "language_info": {
   "codemirror_mode": {
    "name": "ipython",
    "version": 3
   },
   "file_extension": ".py",
   "mimetype": "text/x-python",
   "name": "python",
   "nbconvert_exporter": "python",
   "pygments_lexer": "ipython3",
   "version": "3.6.4"
  }
 },
 "nbformat": 4,
 "nbformat_minor": 2
}
