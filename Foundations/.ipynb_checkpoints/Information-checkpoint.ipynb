{
 "cells": [
  {
   "cell_type": "markdown",
   "metadata": {},
   "source": [
    "Computer, software systems, software programs: data and process.\n",
    "\n",
    "How data is stored in computers? How software programs are interpreting data?\n",
    "Data storing unit in a computer is byte. Each byte consists of several (let's say eight) bits. Each bit can be either 1 or 0. Eight bits can have $2^8$ different values: (10011010),(10011010),(11111111),(10011111),(10000010),(11111010), etc. Therefore, using one byte we can *encode* 256 different symbols: letters a-z, letters A-Z, digits 0-9, etc. \n",
    "\n",
    "But, internationally speaking we have much more than 256 symbols (characters). Think about different languages: Chines, Japanis, Greek, Arabic, Indian, ... . Nowadays software systems support all those languages. Down there in our computers there is only one possible way to achieve such a support: do not limit enconding to one byte. Use several bytes. Then more possibilites can be supported: four bytes can have $2^{(4\\times8)}$ different characters (why?).\n",
    "\n",
    "*todo: various data representations: binary, decimal, hex*\n",
    "\n",
    "*todo: values in Python, char, int, float, strings, booleans, variables to store values*\n",
    "\n",
    "In order to learn more, read here *todo: put a link about various ways of encoding, decoding, ASCII, UTF-8, UTF-16, Hex*"
   ]
  },
  {
   "cell_type": "code",
   "execution_count": 15,
   "metadata": {},
   "outputs": [
    {
     "name": "stdout",
     "output_type": "stream",
     "text": [
      "4294967296\n"
     ]
    }
   ],
   "source": [
    "# how many possible characters are possible using 4 bytes?\n",
    "print(2**(4*8))"
   ]
  },
  {
   "cell_type": "code",
   "execution_count": 16,
   "metadata": {},
   "outputs": [
    {
     "name": "stdout",
     "output_type": "stream",
     "text": [
      "0b10 0b11 0b1010 0b11111111 0b111111\n"
     ]
    }
   ],
   "source": [
    "print( bin(2) , bin(3) , bin(10) , bin(255) , bin(63) )"
   ]
  },
  {
   "cell_type": "code",
   "execution_count": 17,
   "metadata": {},
   "outputs": [
    {
     "name": "stdout",
     "output_type": "stream",
     "text": [
      "0b1111 0b1010 0b1011 0b10101011 0b10101111\n"
     ]
    }
   ],
   "source": [
    "print( bin(0xf), bin(0xa), bin(0xb), bin(0xab), bin(0xaf) )"
   ]
  },
  {
   "cell_type": "code",
   "execution_count": 18,
   "metadata": {},
   "outputs": [
    {
     "name": "stdout",
     "output_type": "stream",
     "text": [
      "é ⹖ ઠ ဃ\n"
     ]
    }
   ],
   "source": [
    "print(chr(233) , chr(0x2e56) , chr(0xaa0) , chr(4099) ,  )"
   ]
  },
  {
   "cell_type": "markdown",
   "metadata": {},
   "source": [
    "## Optional:\n",
    "\n",
    "- Conversion algorithms: binary to/from decimal, hex to/from decimal , hex to/from binary.\n",
    "- Detailed representation of ascii, utf-8, utf-16."
   ]
  },
  {
   "cell_type": "code",
   "execution_count": null,
   "metadata": {},
   "outputs": [],
   "source": []
  }
 ],
 "metadata": {
  "kernelspec": {
   "display_name": "Python 3",
   "language": "python",
   "name": "python3"
  },
  "language_info": {
   "codemirror_mode": {
    "name": "ipython",
    "version": 3
   },
   "file_extension": ".py",
   "mimetype": "text/x-python",
   "name": "python",
   "nbconvert_exporter": "python",
   "pygments_lexer": "ipython3",
   "version": "3.6.4"
  }
 },
 "nbformat": 4,
 "nbformat_minor": 2
}
