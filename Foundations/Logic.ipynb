{
 "cells": [
  {
   "cell_type": "markdown",
   "metadata": {},
   "source": [
    "In this lesson we will practice:\n",
    "- what is a proposition? A sentence with two possible values: true. false\n",
    "- what are the operators in a proposition? Here: and, or, negation, implication (optional)\n",
    "- logical expressions and truth tables.\n",
    "- brackets and their role in calculating the result of an expression.\n",
    "- Rules: distribution of AND over OR (and vice versa), Negation of AND (and OR), Associativity.\n",
    "- Boolean expressions in Python.\n",
    "- Formulating conditions using propositional logic.\n",
    "- Applying rules to have simpler expressions.\n",
    "- Evaluating equivalancy of two expressions."
   ]
  },
  {
   "cell_type": "code",
   "execution_count": 3,
   "metadata": {},
   "outputs": [
    {
     "name": "stdout",
     "output_type": "stream",
     "text": [
      "False\n",
      "False\n",
      "False\n",
      "True\n"
     ]
    }
   ],
   "source": [
    "# give different values and check the result \n",
    "A = True \n",
    "B = False\n",
    "C = False\n",
    "exp1 = (A and B) or (A and C)\n",
    "print(exp1)\n",
    "exp2 = (A and B) or ((not A) and C)\n",
    "print(exp2)\n",
    "exp3 = (A or B) and ((not A) or C)\n",
    "print(exp3)\n",
    "exp4 = not ((A or B) and ((not A) or C))\n",
    "print(exp4)\n",
    "\n",
    "# we can add more ... some equivalency checks.\n",
    "\n",
    "# given these propositions write boolean expressions\n",
    "\n",
    "\n"
   ]
  },
  {
   "cell_type": "code",
   "execution_count": null,
   "metadata": {},
   "outputs": [],
   "source": []
  }
 ],
 "metadata": {
  "kernelspec": {
   "display_name": "Python 3",
   "language": "python",
   "name": "python3"
  },
  "language_info": {
   "codemirror_mode": {
    "name": "ipython",
    "version": 3
   },
   "file_extension": ".py",
   "mimetype": "text/x-python",
   "name": "python",
   "nbconvert_exporter": "python",
   "pygments_lexer": "ipython3",
   "version": "3.6.4"
  }
 },
 "nbformat": 4,
 "nbformat_minor": 2
}
