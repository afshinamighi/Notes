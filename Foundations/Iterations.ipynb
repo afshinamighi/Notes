{
 "cells": [
  {
   "cell_type": "code",
   "execution_count": 1,
   "metadata": {},
   "outputs": [
    {
     "name": "stdout",
     "output_type": "stream",
     "text": [
      "0\n",
      "1\n",
      "2\n",
      "3\n",
      "4\n",
      "0\n",
      "1\n",
      "2\n",
      "3\n",
      "4\n"
     ]
    }
   ],
   "source": [
    "# Print a sequence of numbers.\n",
    "max = 5\n",
    "# print using while loop\n",
    "i = 0\n",
    "while(i < max):\n",
    "    print(i)\n",
    "    i=i+1\n",
    "    \n",
    "\n",
    "# print using a for loop\n",
    "for j in range(0,max):\n",
    "    print(j)\n"
   ]
  },
  {
   "cell_type": "code",
   "execution_count": 10,
   "metadata": {},
   "outputs": [
    {
     "name": "stdout",
     "output_type": "stream",
     "text": [
      "Hex numbers: {'A', 0, 1, 'E', 2, 3, 'C', 4, 5, 'F', 6, 7, 8, 9, 'D', 'B'}\n",
      "0\n",
      "1\n",
      "2\n",
      "3\n",
      "4\n",
      "5\n",
      "6\n",
      "7\n",
      "8\n",
      "9\n"
     ]
    }
   ],
   "source": [
    "#Print elements of a sequence, tuples, set.\n",
    "Hex = set(['A','B','C','D','E','F'])\n",
    "for i in range(0,10):\n",
    "    Hex.add(i)\n",
    "    \n",
    "print('Hex numbers:',Hex)  # print the whole set\n",
    "\n",
    "'''for h in Hex: # iterate over the elements\n",
    "    print(h)\n",
    "'''\n",
    "\n",
    "# print using while loop\n",
    "'''H = Hex.copy()   # why not simply H = Hex ?\n",
    "while(len(H)>0):\n",
    "    e = H.pop()\n",
    "    print(e)\n",
    "'''\n",
    "\n",
    "# print using while loop over a list\n",
    "'''L = list(Hex)\n",
    "index = 0\n",
    "while(index < len(L)):\n",
    "    e = L[index]\n",
    "    print(e)\n",
    "    index +=1\n",
    "'''\n",
    "\n",
    "# printing only numbers\n",
    "for e in Hex:\n",
    "    if(e in range(0,10)):  # try this condition using isnumeric()\n",
    "        print(e)"
   ]
  },
  {
   "cell_type": "code",
   "execution_count": 11,
   "metadata": {},
   "outputs": [
    {
     "name": "stdout",
     "output_type": "stream",
     "text": [
      "sum between 0  and  10  is: 55\n"
     ]
    }
   ],
   "source": [
    "# Calculate Sigma_{0}^{n} x\n",
    "\n",
    "result = 0\n",
    "min = 0\n",
    "max = 10\n",
    "for i in range(min,max+1):  # Try to re-write this with a while loop\n",
    "    result=result+i\n",
    "print('sum between', min, ' and ', max, ' is:', result)\n",
    "\n",
    "# Calculate summation of even nubers between given min and max from the user\n",
    "# Exercise"
   ]
  },
  {
   "cell_type": "code",
   "execution_count": 12,
   "metadata": {},
   "outputs": [
    {
     "name": "stdout",
     "output_type": "stream",
     "text": [
      "The average is: 66.66666666666667\n"
     ]
    }
   ],
   "source": [
    "# Calculate the average\n",
    "\n",
    "numbers = [2,3,6,-10,202,23,2,600,-33,-1,0,6]\n",
    "s = 0\n",
    "for i in numbers: # Try to implement this with a while loop\n",
    "    s+=i\n",
    "avg = s / len(numbers)\n",
    "print('The average is:', avg)"
   ]
  },
  {
   "cell_type": "code",
   "execution_count": null,
   "metadata": {},
   "outputs": [],
   "source": [
    "# Calculate Factorial of n: n!=1*2*3*...*n\n",
    "# Exercise: Implement the program\n"
   ]
  },
  {
   "cell_type": "code",
   "execution_count": 32,
   "metadata": {},
   "outputs": [
    {
     "name": "stdout",
     "output_type": "stream",
     "text": [
      "Primes between range(3, 21)  are  {3, 5, 7, 11, 13, 17, 19}\n"
     ]
    }
   ],
   "source": [
    "# Collect all prime numbers between i and j (including)\n",
    "i = 3  # user can enter i and j\n",
    "j = 20\n",
    "assert(i>0 and j>0)\n",
    "primes = set()\n",
    "non_primes = set()\n",
    "for n in range(i,j+1):\n",
    "    for x in range(2,n):\n",
    "        if(n%x==0):\n",
    "            non_primes.add(n)\n",
    "    if(not(n in non_primes)):\n",
    "        primes.add(n)\n",
    "print('Primes between',range(i,j+1), ' are ',primes)"
   ]
  },
  {
   "cell_type": "code",
   "execution_count": 34,
   "metadata": {},
   "outputs": [
    {
     "name": "stdout",
     "output_type": "stream",
     "text": [
      "False  ->  False  is  True\n",
      "False  ->  True  is  True\n",
      "True  ->  False  is  False\n",
      "True  ->  True  is  True\n"
     ]
    }
   ],
   "source": [
    "# Print truth table for an operation between two proposition\n",
    "# Example: P -> Q\n",
    "P = set([True,False])\n",
    "Q = set([True,False])\n",
    "\n",
    "for p in P:\n",
    "    for q in Q:\n",
    "        print(p,' -> ', q, ' is ', (not(p) or q))  # Why did we use (not(p) or q) ?\n",
    "        \n",
    "# Exercise: Print truth table for a boolean statement containing three boolean variables\n",
    "# Exercise: Print a multiplication table"
   ]
  },
  {
   "cell_type": "code",
   "execution_count": 35,
   "metadata": {},
   "outputs": [
    {
     "name": "stdout",
     "output_type": "stream",
     "text": [
      "Min: -2  Max: 222  Max - Min : 224\n"
     ]
    }
   ],
   "source": [
    "# Find the (Max - Min) for a given sequence of numbers\n",
    "nums = [ 2 ,34 , -2 , 0 , 102, 222] # This can be collected from the input\n",
    "min = 0\n",
    "max = 0\n",
    "for n in nums:\n",
    "    if n > max:\n",
    "        max = n\n",
    "    elif n < min:\n",
    "        min = n\n",
    "print('Min:',min, ' Max:', max, ' Max - Min :', max-min)"
   ]
  },
  {
   "cell_type": "code",
   "execution_count": null,
   "metadata": {},
   "outputs": [],
   "source": []
  }
 ],
 "metadata": {
  "kernelspec": {
   "display_name": "Python 3",
   "language": "python",
   "name": "python3"
  },
  "language_info": {
   "codemirror_mode": {
    "name": "ipython",
    "version": 3
   },
   "file_extension": ".py",
   "mimetype": "text/x-python",
   "name": "python",
   "nbconvert_exporter": "python",
   "pygments_lexer": "ipython3",
   "version": "3.6.4"
  }
 },
 "nbformat": 4,
 "nbformat_minor": 2
}
