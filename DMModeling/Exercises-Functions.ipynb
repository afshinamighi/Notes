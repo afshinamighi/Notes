{
 "cells": [
  {
   "cell_type": "markdown",
   "metadata": {},
   "source": [
    "**Exercise**: Assume functions $f: A \\rightarrow B $ and $g: B \\rightarrow C$. What can we say about $ (g \\circ f)(x) = (g(f(x))) $ if:\n",
    "- both $f$ and $g$ are injective?\n",
    "- both $f$ and $g$ are surjective?\n",
    "- both $f$ and $g$ are bijective?"
   ]
  },
  {
   "cell_type": "code",
   "execution_count": null,
   "metadata": {},
   "outputs": [],
   "source": []
  }
 ],
 "metadata": {
  "kernelspec": {
   "display_name": "Python 3",
   "language": "python",
   "name": "python3"
  },
  "language_info": {
   "codemirror_mode": {
    "name": "ipython",
    "version": 3
   },
   "file_extension": ".py",
   "mimetype": "text/x-python",
   "name": "python",
   "nbconvert_exporter": "python",
   "pygments_lexer": "ipython3",
   "version": "3.6.4"
  }
 },
 "nbformat": 4,
 "nbformat_minor": 2
}
