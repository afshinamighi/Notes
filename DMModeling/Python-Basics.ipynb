{
 "cells": [
  {
   "cell_type": "markdown",
   "metadata": {},
   "source": [
    "## Quick Python:\n",
    "- Data values: programs are processing / storing / presenting data values. Values like integers ( 2 , -3, 5, 1000 , 0 ) , real numbers ( 2.3 , -0.3 , 23.0 , 101.001 ), characters ( a, B , z, ' , : , ? ), booleans ( True, False ) are some examples that are widely used in software programs.\n",
    "- Types: given a data value, a type expresses what kind of value we are dealing with. Python proposes a builtin function to give us the answer. **type(2)**, **type(2.0)** , **type('A')**, **type(true)** all are examples of using this function. Try them and see what are the results.\n",
    "- Type casting: **int(1.0)**, **int(1.2)** , **float(32)**, **bool(1)**, **int('A')**,  \n",
    "- Expressions: operands and operations\n",
    "- Variables: a storage to store a data value. Assignment operator x=3\n",
    "- String Operation\n",
    "- Boolean expressions\n",
    "- Conditions\n",
    "- Branching\n",
    "- Loops\n",
    "- Set\n",
    "- Tuples\n",
    "- Lists\n",
    "- Dictionaries\n",
    "- Functions\n",
    "\n",
    "## Discrete Mathematics:\n",
    "[]\n",
    "\n",
    "## Case Study:\n"
   ]
  }
 ],
 "metadata": {
  "kernelspec": {
   "display_name": "Python 3",
   "language": "python",
   "name": "python3"
  },
  "language_info": {
   "codemirror_mode": {
    "name": "ipython",
    "version": 3
   },
   "file_extension": ".py",
   "mimetype": "text/x-python",
   "name": "python",
   "nbconvert_exporter": "python",
   "pygments_lexer": "ipython3",
   "version": "3.6.4"
  }
 },
 "nbformat": 4,
 "nbformat_minor": 2
}
